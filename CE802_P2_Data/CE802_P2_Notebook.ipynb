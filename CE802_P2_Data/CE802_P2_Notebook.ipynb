{
 "cells": [
  {
   "cell_type": "markdown",
   "metadata": {},
   "source": [
    "### Part A"
   ]
  },
  {
   "cell_type": "code",
   "execution_count": null,
   "metadata": {},
   "outputs": [],
   "source": [
    "# HERE YOU WILL WRITE CODE TO TEST A NUMBER OF PREDICTORS\n",
    "# AND FINALLY CHOOSE AND TRAIN THE PREDICTOR THAT YOU WILL BE USING FOR PART B"
   ]
  },
  {
   "cell_type": "markdown",
   "metadata": {},
   "source": [
    "### Part B"
   ]
  },
  {
   "cell_type": "code",
   "execution_count": 6,
   "metadata": {},
   "outputs": [],
   "source": [
    "# HERE YOU WILL USE THIS TEMPLATE TO SAVE THE PREDICTIONS ON THE TEST SET\n",
    "import pandas as pd\n",
    "import numpy as np\n",
    "from sklearn.ensemble import RandomForestClassifier\n",
    "from sklearn.preprocessing import PowerTransformer \n",
    "import pickle\n",
    "\n",
    "# Load the test data\n",
    "test_df = pd.read_csv('CE802_P2_Test.csv')\n",
    "\n",
    "# Make sure you work on a copy\n",
    "test_data = test_df.iloc[:, 0:20].copy()\n",
    "\n",
    "\n",
    "# test_data['F21'] = test_data['F21'].fillna(test_data['F21'].median())\n",
    "\n",
    "test_data['F3'] = np.square(test_data['F3'])\n",
    "\n",
    "pt = PowerTransformer(method='yeo-johnson')\n",
    "\n",
    "#f8 needs normalization\n",
    "f1 = np.array(test_data['F1'])\n",
    "f3 = np.array(test_data['F3'])\n",
    "f4 = np.array(test_data['F4'])\n",
    "f5 = np.array(test_data['F5'])\n",
    "f7 = np.array(test_data['F7'])\n",
    "f9 = np.array(test_data['F9'])\n",
    "f10 = np.array(test_data['F10'])\n",
    "f11 = np.array(test_data['F11'])\n",
    "f12 = np.array(test_data['F12'])\n",
    "f13 = np.array(test_data['F13'])\n",
    "f14 = np.array(test_data['F14'])\n",
    "f15 = np.array(test_data['F15'])\n",
    "f17 = np.array(test_data['F17'])\n",
    "f18 = np.array(test_data['F18'])\n",
    "f19 = np.array(test_data['F19'])\n",
    "f20 = np.array(test_data['F20'])\n",
    "reshaped_f1 = np.array(f1).reshape(-1, 1)\n",
    "reshaped_f3 = np.array(f3).reshape(-1, 1)\n",
    "reshaped_f4 = np.array(f4).reshape(-1, 1)\n",
    "reshaped_f5 = np.array(f5).reshape(-1, 1)\n",
    "reshaped_f7 = np.array(f7).reshape(-1, 1)\n",
    "reshaped_f9 = np.array(f9).reshape(-1, 1)\n",
    "reshaped_f10 = np.array(f10).reshape(-1, 1)\n",
    "reshaped_f11 = np.array(f11).reshape(-1, 1)\n",
    "reshaped_f12 = np.array(f12).reshape(-1, 1)\n",
    "reshaped_f13 = np.array(f13).reshape(-1, 1)\n",
    "reshaped_f14 = np.array(f14).reshape(-1, 1)\n",
    "reshaped_f15 = np.array(f15).reshape(-1, 1)\n",
    "reshaped_f17 = np.array(f17).reshape(-1, 1)\n",
    "reshaped_f18 = np.array(f18).reshape(-1, 1)\n",
    "reshaped_f19 = np.array(f19).reshape(-1, 1)\n",
    "reshaped_f20 = np.array(f20).reshape(-1, 1)\n",
    "test_data['F1'] = pt.fit_transform(reshaped_f1)\n",
    "test_data['F3'] = pt.fit_transform(reshaped_f3)\n",
    "test_data['F4'] = pt.fit_transform(reshaped_f4)\n",
    "test_data['F5'] = pt.fit_transform(reshaped_f5)\n",
    "test_data['F7'] = pt.fit_transform(reshaped_f7)\n",
    "test_data['F9'] = pt.fit_transform(reshaped_f9)\n",
    "test_data['F10'] = pt.fit_transform(reshaped_f10)\n",
    "test_data['F11'] = pt.fit_transform(reshaped_f11)\n",
    "test_data['F12'] = pt.fit_transform(reshaped_f12)\n",
    "test_data['F13'] = pt.fit_transform(reshaped_f13)\n",
    "test_data['F14'] = pt.fit_transform(reshaped_f14)\n",
    "test_data['F15'] = pt.fit_transform(reshaped_f15)\n",
    "test_data['F17'] = pt.fit_transform(reshaped_f17)\n",
    "test_data['F18'] = pt.fit_transform(reshaped_f18)\n",
    "test_data['F19'] = pt.fit_transform(reshaped_f19)\n",
    "test_data['F20'] = pt.fit_transform(reshaped_f20)\n",
    "\n",
    "rfc = pickle.load(open('prob1RandomForest', \"rb\"))\n",
    "\n",
    "\n",
    "predicted = rfc.predict(test_data)\n",
    "... # CHANGE HERE -- use your previously trained predictor and apply it to test_data\n",
    "                # (test_data can be modified if needed but make sure you don't change the order of the rows)...\n",
    "\n",
    "# Replace the last (empty) column with your prediction\n",
    "test_df.iloc[:,-1] = predicted.astype(bool)\n",
    "\n",
    "# Save to the destination file\n",
    "test_df.to_csv('CE802_P2_Test_Predictions.csv', index=False, float_format='%.8g')\n",
    "\n",
    "# IMPORTANT!! Make sure only the last column has changed\n",
    "assert pd.read_csv('CE802_P2_Test.csv').iloc[:,:-1].equals(pd.read_csv('CE802_P2_Test_Predictions.csv').iloc[:,:-1])"
   ]
  }
 ],
 "metadata": {
  "kernelspec": {
   "display_name": "Python 3.9.6 64-bit",
   "language": "python",
   "name": "python3"
  },
  "language_info": {
   "codemirror_mode": {
    "name": "ipython",
    "version": 3
   },
   "file_extension": ".py",
   "mimetype": "text/x-python",
   "name": "python",
   "nbconvert_exporter": "python",
   "pygments_lexer": "ipython3",
   "version": "3.9.6"
  },
  "vscode": {
   "interpreter": {
    "hash": "31f2aee4e71d21fbe5cf8b01ff0e069b9275f58929596ceb00d14d90e3e16cd6"
   }
  }
 },
 "nbformat": 4,
 "nbformat_minor": 4
}
