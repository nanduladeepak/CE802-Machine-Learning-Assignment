{
 "cells": [
  {
   "cell_type": "markdown",
   "metadata": {},
   "source": [
    "### Part A"
   ]
  },
  {
   "cell_type": "code",
   "execution_count": null,
   "metadata": {},
   "outputs": [],
   "source": [
    "# HERE YOU WILL WRITE CODE TO TEST A NUMBER OF PREDICTORS\n",
    "# AND FINALLY CHOOSE AND TRAIN THE PREDICTOR THAT YOU WILL BE USING FOR PART B"
   ]
  },
  {
   "cell_type": "markdown",
   "metadata": {},
   "source": [
    "### Part B"
   ]
  },
  {
   "cell_type": "code",
   "execution_count": 3,
   "metadata": {},
   "outputs": [],
   "source": [
    "# HERE YOU WILL USE THIS TEMPLATE TO SAVE THE PREDICTIONS ON THE TEST SET\n",
    "import pandas as pd\n",
    "import numpy as np\n",
    "import pickle\n",
    "from sklearn.preprocessing import PowerTransformer,MinMaxScaler\n",
    "\n",
    "# Load the test data\n",
    "test_df = pd.read_csv('CE802_P3_Test.csv')\n",
    "\n",
    "# Make sure you work on a copy\n",
    "test_data = test_df.iloc[:,:-1].copy()\n",
    "\n",
    "\n",
    "pt = PowerTransformer(method='yeo-johnson')\n",
    "\n",
    "scaleable_features = ['F1','F2','F5','F7','F8','F10','F11','F12','F13','F14','F15','F16','F17','F18','F19','F20','F21','F22','F24','F25','F26','F27','F28','F29','F30','F31','F32','F33','F34']\n",
    "\n",
    "\n",
    "scale = MinMaxScaler()\n",
    "\n",
    "test_data[scaleable_features] = scale.fit_transform(test_data[scaleable_features])\n",
    "\n",
    "f3 = np.array(test_data['F3'])\n",
    "f4 = np.array(test_data['F4'])\n",
    "f23 = np.array(test_data['F23'])\n",
    "reshaped_f3 = np.array(f3).reshape(-1, 1)\n",
    "reshaped_f4 = np.array(f4).reshape(-1, 1)\n",
    "reshaped_f23 = np.array(f23).reshape(-1, 1)\n",
    "\n",
    "test_data['F3'] = pt.fit_transform(reshaped_f3)\n",
    "test_data['F4'] = pt.fit_transform(reshaped_f4)\n",
    "test_data['F23'] = pt.fit_transform(reshaped_f23)\n",
    "\n",
    "test_data['F6'] = test_data['F6'].map({'UK':1, 'Europe':2,'USA':3,'Rest':4})\n",
    "test_data['F9'] = test_data['F9'].map({'Very high':1,'High':2,'Medium':3,'Low':4 , 'Very low':5})\n",
    "\n",
    "reg = pickle.load(open('prob2lasso', \"rb\"))\n",
    "\n",
    "predicted = reg.predict(test_data)\n",
    "... # CHANGE HERE -- use your previously trained predictor and apply it to test_data\n",
    "                # (test_data can be modified if needed but make sure you don't change the order of the rows)...\n",
    "\n",
    "# Replace the last (empty) column with your prediction\n",
    "test_df.iloc[:,-1] = predicted\n",
    "\n",
    "# Save to the destination file\n",
    "test_df.to_csv('CE802_P3_Test_Predictions.csv', index=False, float_format='%.8g')\n",
    "\n",
    "# IMPORTANT!! Make sure only the last column has changed\n",
    "assert pd.read_csv('CE802_P3_Test.csv').iloc[:,:-1].equals(pd.read_csv('CE802_P3_Test_Predictions.csv').iloc[:,:-1])"
   ]
  }
 ],
 "metadata": {
  "kernelspec": {
   "display_name": "Python 3.9.6 64-bit",
   "language": "python",
   "name": "python3"
  },
  "language_info": {
   "codemirror_mode": {
    "name": "ipython",
    "version": 3
   },
   "file_extension": ".py",
   "mimetype": "text/x-python",
   "name": "python",
   "nbconvert_exporter": "python",
   "pygments_lexer": "ipython3",
   "version": "3.9.6"
  },
  "vscode": {
   "interpreter": {
    "hash": "31f2aee4e71d21fbe5cf8b01ff0e069b9275f58929596ceb00d14d90e3e16cd6"
   }
  }
 },
 "nbformat": 4,
 "nbformat_minor": 4
}
